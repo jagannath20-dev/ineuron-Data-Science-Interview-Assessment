{
  "nbformat": 4,
  "nbformat_minor": 0,
  "metadata": {
    "colab": {
      "provenance": []
    },
    "kernelspec": {
      "name": "python3",
      "display_name": "Python 3"
    },
    "language_info": {
      "name": "python"
    }
  },
  "cells": [
    {
      "cell_type": "code",
      "execution_count": null,
      "metadata": {
        "id": "NHPN5aCayTRZ"
      },
      "outputs": [],
      "source": []
    },
    {
      "cell_type": "markdown",
      "source": [
        "\n",
        "Question 1: -\n",
        "\n",
        "Write a program that takes a string as input, and counts the frequency of each word in the string, there might be repeated characters in the string. Your task is to find the highest frequency and returns the length of the highest-frequency word."
      ],
      "metadata": {
        "id": "8FjfzIbayceg"
      }
    },
    {
      "cell_type": "code",
      "source": [
        "def freq_of_word(str): \n",
        "  str2_list = str.split()\n",
        "  words = set(str2_list)\n",
        "  for word in words:\n",
        "    print('Frequency of ' , word ,'is : ', str2_list.count(word) ) \n",
        "\n",
        "### Driver Code\n",
        "print(\"**************************************** Test Case 1 *****************************************************\")\n",
        "str2 = \"if Teacher wants the students in the class to get every student good score compare to other college students in the city and not only that the teacher wants their students to compete with the students presented in the district and the state students also.\"\n",
        "freq_of_word(str2)\n",
        "\n",
        "print(\"**************************************** Test Case 2 *****************************************************\")\n",
        "str3 = \" Physics Maths Social Physics Telugu Maths Physics Social Maths Science Physics Telugu Physics Maths Science Maths\"\n",
        "freq_of_word(str3)\n",
        "\n",
        "print(\"**************************************** Test Case 3 *****************************************************\")\n",
        "str4 = \"Jagannath Shiva Sreenath Jagannath Tarun Ramu Krishna Jagannath Ramu Krishna Narasimha Shiva Ramu Shiva Jagannath\"\n",
        "freq_of_word(str4)"
      ],
      "metadata": {
        "colab": {
          "base_uri": "https://localhost:8080/"
        },
        "id": "K81d5yikytAW",
        "outputId": "c1cffa35-d1b2-4798-f39f-81141aaf5d6e"
      },
      "execution_count": 1,
      "outputs": [
        {
          "output_type": "stream",
          "name": "stdout",
          "text": [
            "**************************************** Test Case 1 *****************************************************\n",
            "Frequency of  every is :  1\n",
            "Frequency of  college is :  1\n",
            "Frequency of  compete is :  1\n",
            "Frequency of  Teacher is :  1\n",
            "Frequency of  state is :  1\n",
            "Frequency of  student is :  1\n",
            "Frequency of  and is :  2\n",
            "Frequency of  that is :  1\n",
            "Frequency of  also. is :  1\n",
            "Frequency of  if is :  1\n",
            "Frequency of  presented is :  1\n",
            "Frequency of  the is :  7\n",
            "Frequency of  city is :  1\n",
            "Frequency of  get is :  1\n",
            "Frequency of  in is :  3\n",
            "Frequency of  wants is :  2\n",
            "Frequency of  compare is :  1\n",
            "Frequency of  their is :  1\n",
            "Frequency of  score is :  1\n",
            "Frequency of  teacher is :  1\n",
            "Frequency of  district is :  1\n",
            "Frequency of  class is :  1\n",
            "Frequency of  to is :  3\n",
            "Frequency of  good is :  1\n",
            "Frequency of  only is :  1\n",
            "Frequency of  students is :  5\n",
            "Frequency of  with is :  1\n",
            "Frequency of  not is :  1\n",
            "Frequency of  other is :  1\n",
            "**************************************** Test Case 2 *****************************************************\n",
            "Frequency of  Physics is :  5\n",
            "Frequency of  Telugu is :  2\n",
            "Frequency of  Social is :  2\n",
            "Frequency of  Maths is :  5\n",
            "Frequency of  Science is :  2\n",
            "**************************************** Test Case 3 *****************************************************\n",
            "Frequency of  Ramu is :  3\n",
            "Frequency of  Shiva is :  3\n",
            "Frequency of  Tarun is :  1\n",
            "Frequency of  Krishna is :  2\n",
            "Frequency of  Narasimha is :  1\n",
            "Frequency of  Sreenath is :  1\n",
            "Frequency of  Jagannath is :  4\n"
          ]
        }
      ]
    },
    {
      "cell_type": "code",
      "source": [],
      "metadata": {
        "id": "m6IDKoqyyvsa"
      },
      "execution_count": null,
      "outputs": []
    }
  ]
}