{
  "nbformat": 4,
  "nbformat_minor": 0,
  "metadata": {
    "colab": {
      "provenance": []
    },
    "kernelspec": {
      "name": "python3",
      "display_name": "Python 3"
    },
    "language_info": {
      "name": "python"
    }
  },
  "cells": [
    {
      "cell_type": "markdown",
      "source": [
        "Question 2: -\n",
        "\n",
        "Consider a string to be valid if all characters of the string appear the same number of times. It is also valid if he can remove just one character at the index in the string, and the remaining characters will occur the same number of times. Given a string, determine if it is valid. If so, return YES , otherwise return NO ."
      ],
      "metadata": {
        "id": "pyjqhxFfz0vO"
      }
    },
    {
      "cell_type": "code",
      "source": [
        "from collections import Counter\n",
        " \n",
        "def validate_str(strr):\n",
        "   \n",
        "    freq = Counter(strr)\n",
        "     \n",
        "    valuelist = list(freq.values()) \n",
        "     \n",
        "    ValueCounter = Counter(valuelist)\n",
        "    if(len(ValueCounter) == 1):\n",
        "        return True\n",
        "    elif(len(ValueCounter) == 2 and\n",
        "         min(ValueCounter.values()) == 1):\n",
        "        return True\n",
        "       \n",
        "    return False\n",
        "# Driver code\n",
        "print(\"**************************************** Test Case 1 *****************************************************\")\n",
        "str1 = \"abcbcdabcdcabcdcabcdcabc\"\n",
        "print(validate_str(str1))\n",
        "print(\"**************************************** Test Case 2 *****************************************************\")\n",
        "str2 = \"xyzxyzxyzdfexzsdyekauexyzgdjake\"\n",
        "print(validate_str(str2))\n",
        "print(\"**************************************** Test Case 3 *****************************************************\")\n",
        "str3 = \"abcbc\"\n",
        "print(validate_str(str3))"
      ],
      "metadata": {
        "colab": {
          "base_uri": "https://localhost:8080/"
        },
        "id": "duP9W5K3z2Fo",
        "outputId": "9b900d64-7e69-4154-c70e-51a73ed68263"
      },
      "execution_count": 2,
      "outputs": [
        {
          "output_type": "stream",
          "name": "stdout",
          "text": [
            "**************************************** Test Case 1 *****************************************************\n",
            "False\n",
            "**************************************** Test Case 2 *****************************************************\n",
            "False\n",
            "**************************************** Test Case 3 *****************************************************\n",
            "True\n"
          ]
        }
      ]
    },
    {
      "cell_type": "code",
      "source": [],
      "metadata": {
        "id": "jyy2Mlslz58X"
      },
      "execution_count": null,
      "outputs": []
    }
  ]
}