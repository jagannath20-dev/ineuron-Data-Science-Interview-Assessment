{
  "nbformat": 4,
  "nbformat_minor": 0,
  "metadata": {
    "colab": {
      "provenance": []
    },
    "kernelspec": {
      "name": "python3",
      "display_name": "Python 3"
    },
    "language_info": {
      "name": "python"
    }
  },
  "cells": [
    {
      "cell_type": "code",
      "execution_count": 3,
      "metadata": {
        "colab": {
          "base_uri": "https://localhost:8080/"
        },
        "id": "ew4RvmyEsDcB",
        "outputId": "f4d28398-0098-4b35-f3f9-e0787be91c21"
      },
      "outputs": [
        {
          "output_type": "stream",
          "name": "stdout",
          "text": [
            "Likes Prediction:\n",
            "Mean Squared Error: 1859.1731983903883\n",
            "R-squared Score: -0.3114680678742392\n"
          ]
        }
      ],
      "source": [
        "import pandas as pd\n",
        "from sklearn.model_selection import train_test_split\n",
        "from sklearn.linear_model import LinearRegression\n",
        "from sklearn.metrics import mean_squared_error, r2_score\n",
        "import re\n",
        "\n",
        "# Load the dataset\n",
        "data = pd.read_csv('/content/sample_data/instagram_reach.csv')\n",
        "\n",
        "# Select input features and target variables\n",
        "input_features = ['USERNAME', 'Caption', 'Hashtags', 'Followers']\n",
        "target_likes = 'Likes'\n",
        "target_time_since_posted = 'Time since posted'\n",
        "\n",
        "# Prepare the data\n",
        "X = data[input_features]\n",
        "y_likes = data[target_likes]\n",
        "\n",
        "# Convert \"Time since posted\" to numeric representation\n",
        "def convert_time_to_hours(time):\n",
        "    if 'hour' in time:\n",
        "        return int(re.findall(r'\\d+', time)[0])\n",
        "    elif 'day' in time:\n",
        "        return int(re.findall(r'\\d+', time)[0]) * 24\n",
        "    elif 'week' in time:\n",
        "        return int(re.findall(r'\\d+', time)[0]) * 24 * 7\n",
        "    elif 'month' in time:\n",
        "        return int(re.findall(r'\\d+', time)[0]) * 24 * 30\n",
        "    else:\n",
        "        return 0\n",
        "\n",
        "data['Time since posted'] = data['Time since posted'].apply(convert_time_to_hours)\n",
        "\n",
        "# Encode categorical features\n",
        "X_encoded = pd.get_dummies(X, drop_first=True)\n",
        "\n",
        "# Split the data into training and testing sets\n",
        "X_train, X_test, y_train_likes, y_test_likes = train_test_split(\n",
        "    X_encoded, y_likes, test_size=0.2, random_state=42)\n",
        "\n",
        "# Build and train the Linear Regression model for predicting likes\n",
        "model_likes = LinearRegression()\n",
        "model_likes.fit(X_train, y_train_likes)\n",
        "\n",
        "# Make predictions on the test set for likes\n",
        "y_pred_likes = model_likes.predict(X_test)\n",
        "\n",
        "# Evaluate the model\n",
        "mse_likes = mean_squared_error(y_test_likes, y_pred_likes)\n",
        "r2_likes = r2_score(y_test_likes, y_pred_likes)\n",
        "\n",
        "print(\"Likes Prediction:\")\n",
        "print(\"Mean Squared Error:\", mse_likes)\n",
        "print(\"R-squared Score:\", r2_likes)"
      ]
    },
    {
      "cell_type": "code",
      "source": [],
      "metadata": {
        "id": "WGmQWqtfsOnO"
      },
      "execution_count": null,
      "outputs": []
    }
  ]
}