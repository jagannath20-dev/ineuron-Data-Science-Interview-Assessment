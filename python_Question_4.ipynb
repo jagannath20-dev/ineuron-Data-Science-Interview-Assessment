{
  "nbformat": 4,
  "nbformat_minor": 0,
  "metadata": {
    "colab": {
      "provenance": []
    },
    "kernelspec": {
      "name": "python3",
      "display_name": "Python 3"
    },
    "language_info": {
      "name": "python"
    }
  },
  "cells": [
    {
      "cell_type": "markdown",
      "source": [
        "Write a program to download the data from the link given below and then read the data and convert the into the proper structure and return it as a CSV file."
      ],
      "metadata": {
        "id": "xY68HEQL0J9U"
      }
    },
    {
      "cell_type": "code",
      "source": [
        "import requests\n",
        "import pandas as pd\n",
        "import csv\n",
        "\n",
        "def download_data(url):\n",
        "    response = requests.get(url)\n",
        "    if response.status_code == 200:\n",
        "        return response.content\n",
        "    else:\n",
        "        raise Exception(f\"Failed to download data from {url}\")\n",
        "\n",
        "def process_data(data):\n",
        "    df = pd.read_json(url)\n",
        "    return df\n",
        "\n",
        "def convert_to_csv(dataframe, output_file):\n",
        "    dataframe.to_csv(output_file, index=False)\n",
        "    print(f\"Data successfully converted to csv format in '{output_file}'\")\n",
        "\n",
        "url = 'https://data.nasa.gov/resource/y77d-th95.json'\n",
        "output_file = \"nasa.csv\"\n",
        "\n",
        "try:\n",
        "    raw_data = download_data(url)\n",
        "\n",
        "    processed_data = process_data(raw_data)\n",
        "\n",
        "    convert_to_csv(processed_data, output_file)\n",
        "    \n",
        "except Exception as e:\n",
        "    print(\"An error occurred:\", str(e))"
      ],
      "metadata": {
        "colab": {
          "base_uri": "https://localhost:8080/"
        },
        "id": "Lb_5pqND0Ok-",
        "outputId": "38e80367-7d46-4a9e-db29-72097e82c8e3"
      },
      "execution_count": 4,
      "outputs": [
        {
          "output_type": "stream",
          "name": "stdout",
          "text": [
            "Data successfully converted to csv format in 'nasa.csv'\n"
          ]
        }
      ]
    },
    {
      "cell_type": "code",
      "source": [],
      "metadata": {
        "id": "_osrqIl50Rlk"
      },
      "execution_count": null,
      "outputs": []
    }
  ]
}