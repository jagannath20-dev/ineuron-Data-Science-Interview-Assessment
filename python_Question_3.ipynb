{
  "nbformat": 4,
  "nbformat_minor": 0,
  "metadata": {
    "colab": {
      "provenance": []
    },
    "kernelspec": {
      "name": "python3",
      "display_name": "Python 3"
    },
    "language_info": {
      "name": "python"
    }
  },
  "cells": [
    {
      "cell_type": "markdown",
      "source": [
        "Write a program, which would download the data from the provided link, and then read the data and convert that into properly structured data and return it in Excel format."
      ],
      "metadata": {
        "id": "xY68HEQL0J9U"
      }
    },
    {
      "cell_type": "code",
      "source": [
        "import requests\n",
        "import pandas as pd\n",
        "\n",
        "def download_data(url):\n",
        "    response = requests.get(url)\n",
        "    if response.status_code == 200:\n",
        "        return response.json()\n",
        "    else:\n",
        "        raise Exception(f\"Failed to download data from {url}\")\n",
        "\n",
        "def process_data(data):\n",
        "  df = pd.DataFrame(data)\n",
        "  return df\n",
        "\n",
        "def convert_to_excel(dataframe,output_file):\n",
        "  dataframe.to_excel(output_file,index = False)\n",
        "  print(f\"Data successfully converted to Excel format in '{output_file}'\")\n",
        "\n",
        "\n",
        "url = 'https://raw.githubusercontent.com/Biuni/PokemonGO-Pokedex/master/pokedex.json'\n",
        "output_file = 'pokedex.xlsx'\n",
        "\n",
        "try:\n",
        "    raw_data = download_data(url)\n",
        "    pro_data = process_data(raw_data)\n",
        "    convert_to_excel(pro_data,output_file)\n",
        "except Exception as e:\n",
        "    print(\"An error occurred:\", str(e))"
      ],
      "metadata": {
        "id": "Lb_5pqND0Ok-",
        "outputId": "51ed039d-619d-4a4a-8a1d-7a72bf7e5b90",
        "colab": {
          "base_uri": "https://localhost:8080/"
        }
      },
      "execution_count": 3,
      "outputs": [
        {
          "output_type": "stream",
          "name": "stdout",
          "text": [
            "Data successfully converted to Excel format in 'pokedex.xlsx'\n"
          ]
        }
      ]
    },
    {
      "cell_type": "code",
      "source": [],
      "metadata": {
        "id": "_osrqIl50Rlk"
      },
      "execution_count": null,
      "outputs": []
    }
  ]
}