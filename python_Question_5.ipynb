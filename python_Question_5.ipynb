{
  "nbformat": 4,
  "nbformat_minor": 0,
  "metadata": {
    "colab": {
      "provenance": []
    },
    "kernelspec": {
      "name": "python3",
      "display_name": "Python 3"
    },
    "language_info": {
      "name": "python"
    }
  },
  "cells": [
    {
      "cell_type": "markdown",
      "source": [
        "Question 5 -\n",
        "\n",
        "\n",
        "Write a program to download the data from the given API link and then extract the following data with\n",
        "proper formatting"
      ],
      "metadata": {
        "id": "xY68HEQL0J9U"
      }
    },
    {
      "cell_type": "code",
      "source": [
        "import requests\n",
        "\n",
        "def download_data(url):\n",
        "    response = requests.get(url)\n",
        "    if response.status_code == 200:\n",
        "        return response.json()\n",
        "    else:\n",
        "        raise Exception(f\"Failed to download data from {url}\")\n",
        "\n",
        "url = \"http://api.tvmaze.com/singlesearch/shows?q=westworld&embed=episodes\"\n",
        "\n",
        "try:\n",
        "    api_data = download_data(url)\n",
        "\n",
        "    show_name = api_data['name']\n",
        "    premiered = api_data['premiered']\n",
        "    summary = api_data['summary']\n",
        "    episodes = api_data['_embedded']['episodes']\n",
        "    \n",
        "    print(\"Show Name:\", show_name)\n",
        "    print(\"Premiered:\", premiered)\n",
        "    print(\"Summary:\", summary)\n",
        "    print(\"\\nEpisodes:\")\n",
        "    for episode in episodes:\n",
        "        episode_name = episode['name']\n",
        "        episode_season = episode['season']\n",
        "        episode_number = episode['number']\n",
        "        print(f\"Season {episode_season} - Episode {episode_number}: {episode_name}\")\n",
        "        \n",
        "except Exception as e:\n",
        "    print(\"An error occurred:\", str(e))\n"
      ],
      "metadata": {
        "colab": {
          "base_uri": "https://localhost:8080/"
        },
        "id": "_osrqIl50Rlk",
        "outputId": "12a72ef3-d707-4bdb-8e78-bc66ff4eb942"
      },
      "execution_count": 5,
      "outputs": [
        {
          "output_type": "stream",
          "name": "stdout",
          "text": [
            "Show Name: Westworld\n",
            "Premiered: 2016-10-02\n",
            "Summary: <p><b>Westworld</b> is a dark odyssey about the dawn of artificial consciousness and the evolution of sin. Set at the intersection of the near future and the reimagined past, it explores a world in which every human appetite, no matter how noble or depraved, can be indulged.</p>\n",
            "\n",
            "Episodes:\n",
            "Season 1 - Episode 1: The Original\n",
            "Season 1 - Episode 2: Chestnut\n",
            "Season 1 - Episode 3: The Stray\n",
            "Season 1 - Episode 4: Dissonance Theory\n",
            "Season 1 - Episode 5: Contrapasso\n",
            "Season 1 - Episode 6: The Adversary\n",
            "Season 1 - Episode 7: Trompe L'Oeil\n",
            "Season 1 - Episode 8: Trace Decay\n",
            "Season 1 - Episode 9: The Well-Tempered Clavier\n",
            "Season 1 - Episode 10: The Bicameral Mind\n",
            "Season 2 - Episode 1: Journey Into Night\n",
            "Season 2 - Episode 2: Reunion\n",
            "Season 2 - Episode 3: Virtù e Fortuna\n",
            "Season 2 - Episode 4: The Riddle of the Sphinx\n",
            "Season 2 - Episode 5: Akane No Mai\n",
            "Season 2 - Episode 6: Phase Space\n",
            "Season 2 - Episode 7: Les Écorchés\n",
            "Season 2 - Episode 8: Kiksuya\n",
            "Season 2 - Episode 9: Vanishing Point\n",
            "Season 2 - Episode 10: The Passenger\n",
            "Season 3 - Episode 1: Parce Domine\n",
            "Season 3 - Episode 2: The Winter Line\n",
            "Season 3 - Episode 3: The Absence of Field\n",
            "Season 3 - Episode 4: The Mother of Exiles\n",
            "Season 3 - Episode 5: Genre\n",
            "Season 3 - Episode 6: Decoherence\n",
            "Season 3 - Episode 7: Passed Pawn\n",
            "Season 3 - Episode 8: Crisis Theory\n",
            "Season 4 - Episode 1: The Auguries\n",
            "Season 4 - Episode 2: Well Enough Alone\n",
            "Season 4 - Episode 3: Années Folles\n",
            "Season 4 - Episode 4: Generation Loss\n",
            "Season 4 - Episode 5: Zhuangzi\n",
            "Season 4 - Episode 6: Fidelity\n",
            "Season 4 - Episode 7: Metanoia\n",
            "Season 4 - Episode 8: Que Será, Será\n"
          ]
        }
      ]
    },
    {
      "cell_type": "code",
      "source": [],
      "metadata": {
        "id": "qVy8aVOo0v24"
      },
      "execution_count": null,
      "outputs": []
    }
  ]
}